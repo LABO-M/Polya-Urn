{
 "cells": [
  {
   "cell_type": "markdown",
   "metadata": {},
   "source": [
    "# Polya with Memory Kernel"
   ]
  },
  {
   "cell_type": "markdown",
   "metadata": {},
   "source": [
    "### Run simulation of Polya with Memory Kernel"
   ]
  },
  {
   "cell_type": "code",
   "execution_count": 19,
   "metadata": {},
   "outputs": [],
   "source": [
    "import sys\n",
    "import os\n",
    "\n",
    "sys.path.append(os.path.abspath(\"../src\"))\n"
   ]
  },
  {
   "cell_type": "code",
   "execution_count": 28,
   "metadata": {},
   "outputs": [
    {
     "name": "stdout",
     "output_type": "stream",
     "text": [
      "usage: main.jl [--T T] [--t0 T0] [--p P] [--q Q] [--alpha ALPHA]\n",
      "               [--sample SAMPLE] [-h]\n",
      "\n",
      "optional arguments:\n",
      "  --T T            Total number of time steps in the simulation.\n",
      "                   (type: Int64, default: 1000)\n",
      "  --t0 T0          Initialization time. (type: Int64, default: 100)\n",
      "  --p P            Influence parameter for the previous ball's color.\n",
      "                   A higher value indicates a greater impact of the\n",
      "                   previous outcome on the next outcome. (type:\n",
      "                   Float64, default: 0.9)\n",
      "  --q Q            Randomness parameter. Represents the base\n",
      "                   probability of selecting a particular color,\n",
      "                   irrespective of the urn's current composition.\n",
      "                   (type: Float64, default: 0.5)\n",
      "  --alpha ALPHA    Decay exponent parameter. Controls the rate at\n",
      "                   which the impact of past events diminishes over\n",
      "                   time. (type: Float64, default: 0.5)\n",
      "  --sample SAMPLE  Sample size. (type: Int64, default: 10000)\n",
      "  -h, --help       show this help message and exit\n",
      "\n"
     ]
    }
   ],
   "source": [
    "!julia ../src/sampling/main.jl --help\n"
   ]
  },
  {
   "cell_type": "code",
   "execution_count": 20,
   "metadata": {},
   "outputs": [
    {
     "name": "stdout",
     "output_type": "stream",
     "text": [
      "Running simulation with the following parameters:\n",
      "T = 1K, t0 = 100, p = 0.9, q = 0.5, sample = 10K\n",
      "Saved Ct values to data/Ct/T1K_p0.9_q0.5_alpha0.0_t0100_sample10K.csv\n",
      "Running simulation with the following parameters:\n",
      "T = 1K, t0 = 100, p = 0.9, q = 0.5, alpha = 0.1, sample = 10K\n"
     ]
    },
    {
     "name": "stderr",
     "output_type": "stream",
     "text": [
      "Progress: 100%|█████████████████████████████████████████| Time: 0:00:59\u001b[K\n"
     ]
    },
    {
     "name": "stdout",
     "output_type": "stream",
     "text": [
      "Saved Ct values to data/Ct/T1K_p0.9_q0.5_alpha0.1_t0100_sample10K.csv\n",
      "Running simulation with the following parameters:\n",
      "T = 1K, t0 = 100, p = 0.9, q = 0.5, alpha = 0.3, sample = 10K\n"
     ]
    },
    {
     "name": "stderr",
     "output_type": "stream",
     "text": [
      "Progress: 100%|█████████████████████████████████████████| Time: 0:00:59\u001b[K\n"
     ]
    },
    {
     "name": "stdout",
     "output_type": "stream",
     "text": [
      "Saved Ct values to data/Ct/T1K_p0.9_q0.5_alpha0.3_t0100_sample10K.csv\n",
      "Running simulation with the following parameters:\n",
      "T = 1K, t0 = 100, p = 0.9, q = 0.5, alpha = 0.5, sample = 10K\n"
     ]
    },
    {
     "name": "stderr",
     "output_type": "stream",
     "text": [
      "Progress: 100%|█████████████████████████████████████████| Time: 0:00:59\u001b[K\n"
     ]
    },
    {
     "name": "stdout",
     "output_type": "stream",
     "text": [
      "Saved Ct values to data/Ct/T1K_p0.9_q0.5_alpha0.5_t0100_sample10K.csv\n",
      "Running simulation with the following parameters:\n",
      "T = 1K, t0 = 100, p = 0.9, q = 0.5, alpha = 0.7, sample = 10K\n"
     ]
    },
    {
     "name": "stderr",
     "output_type": "stream",
     "text": [
      "Progress: 100%|█████████████████████████████████████████| Time: 0:00:59\u001b[K\n"
     ]
    },
    {
     "name": "stdout",
     "output_type": "stream",
     "text": [
      "Saved Ct values to data/Ct/T1K_p0.9_q0.5_alpha0.7_t0100_sample10K.csv\n",
      "Running simulation with the following parameters:\n",
      "T = 1K, t0 = 100, p = 0.9, q = 0.5, alpha = 0.9, sample = 10K\n"
     ]
    },
    {
     "name": "stderr",
     "output_type": "stream",
     "text": [
      "Progress: 100%|█████████████████████████████████████████| Time: 0:00:59\u001b[K\n"
     ]
    },
    {
     "name": "stdout",
     "output_type": "stream",
     "text": [
      "Saved Ct values to data/Ct/T1K_p0.9_q0.5_alpha0.9_t0100_sample10K.csv\n",
      "Running simulation with the following parameters:\n",
      "T = 1K, t0 = 100, p = 0.9, q = 0.5, alpha = 1.0, sample = 10K\n"
     ]
    },
    {
     "name": "stderr",
     "output_type": "stream",
     "text": [
      "Progress: 100%|█████████████████████████████████████████| Time: 0:00:58\u001b[K\n"
     ]
    },
    {
     "name": "stdout",
     "output_type": "stream",
     "text": [
      "Saved Ct values to data/Ct/T1K_p0.9_q0.5_alpha1.0_t0100_sample10K.csv\n"
     ]
    }
   ],
   "source": [
    "alphas = [0.1, 0.3, 0.5, 0.7, 0.9, 1.0]\n",
    "\n",
    "for alpha in alphas:\n",
    "    command = f\"julia ../src/sampling/main.jl --alpha {alpha}\"\n",
    "    os.system(command)\n"
   ]
  },
  {
   "cell_type": "markdown",
   "metadata": {},
   "source": [
    "### Plot the results"
   ]
  },
  {
   "cell_type": "code",
   "execution_count": 62,
   "metadata": {},
   "outputs": [
    {
     "name": "stderr",
     "output_type": "stream",
     "text": [
      "/home/mori/anaconda3/envs/shogo/lib/python3.11/site-packages/pandas/core/arraylike.py:396: RuntimeWarning: invalid value encountered in log\n",
      "  result = getattr(ufunc, method)(*inputs, **kwargs)\n",
      "/home/mori/anaconda3/envs/shogo/lib/python3.11/site-packages/pandas/core/arraylike.py:396: RuntimeWarning: divide by zero encountered in log\n",
      "  result = getattr(ufunc, method)(*inputs, **kwargs)\n"
     ]
    }
   ],
   "source": [
    "import numpy as np\n",
    "import pandas as pd\n",
    "import matplotlib.pyplot as plt\n",
    "\n",
    "result_alpha_01 = pd.read_csv(\"data/Ct/T1K_p0.9_q0.5_alpha0.1_t0100_sample10K.csv\")\n",
    "result_alpha_03 = pd.read_csv(\"data/Ct/T1K_p0.9_q0.5_alpha0.3_t0100_sample10K.csv\")\n",
    "result_alpha_05 = pd.read_csv(\"data/Ct/T1K_p0.9_q0.5_alpha0.5_t0100_sample10K.csv\")\n",
    "result_alpha_07 = pd.read_csv(\"data/Ct/T1K_p0.9_q0.5_alpha0.7_t0100_sample10K.csv\")\n",
    "result_alpha_09 = pd.read_csv(\"data/Ct/T1K_p0.9_q0.5_alpha0.9_t0100_sample10K.csv\")\n",
    "result_alpha_10 = pd.read_csv(\"data/Ct/T1K_p0.9_q0.5_alpha1.0_t0100_sample10K.csv\")\n",
    "\n",
    "result_alpha_01 = result_alpha_01[result_alpha_01[\"t\"] > 100]\n",
    "result_alpha_03 = result_alpha_03[result_alpha_03[\"t\"] > 100]\n",
    "result_alpha_05 = result_alpha_05[result_alpha_05[\"t\"] > 100]\n",
    "result_alpha_07 = result_alpha_07[result_alpha_07[\"t\"] > 100]\n",
    "result_alpha_09 = result_alpha_09[result_alpha_09[\"t\"] > 100]\n",
    "result_alpha_10 = result_alpha_10[result_alpha_10[\"t\"] > 100]\n",
    "\n",
    "t_val = result_alpha_01['t'].to_numpy()\n",
    "def theory_line(alpha, p=0.9, t0=101, t_val=t_val):\n",
    "    return p * np.exp(-(1-p)/(1-alpha) * (t_val**(1-alpha) - t0**(1-alpha)))\n",
    "\n",
    "plt.loglog(t_val, -np.log(result_alpha_01['Ct']), label='alpha=0.1')\n",
    "plt.loglog(t_val, -np.log(result_alpha_03['Ct']), label='alpha=0.3')\n",
    "plt.loglog(t_val, -np.log(result_alpha_05['Ct']), label='alpha=0.5')\n",
    "plt.loglog(t_val, -np.log(result_alpha_07['Ct']), label='alpha=0.7')\n",
    "plt.loglog(t_val, -np.log(result_alpha_09['Ct']), label='alpha=0.9')\n",
    "plt.loglog(t_val, -np.log(result_alpha_10['Ct']), label='alpha=1.0')\n",
    "\n",
    "plt.loglog(t_val, -np.log(theory_line(0.1)), label='theory alpha=0.1')\n",
    "plt.loglog(t_val, -np.log(theory_line(0.3)), label='theory alpha=0.3')\n",
    "plt.loglog(t_val, -np.log(theory_line(0.5)), label='theory alpha=0.5')\n",
    "plt.loglog(t_val, -np.log(theory_line(0.7)), label='theory alpha=0.7')\n",
    "plt.loglog(t_val, -np.log(theory_line(0.9)), label='theory alpha=0.9')\n",
    "\n",
    "plt.xlabel('t')\n",
    "plt.ylabel('-log C(t)')\n",
    "plt.title('C(t) for different alpha (p=0.9, q=0.5)')\n",
    "plt.legend(bbox_to_anchor=(1.05, 1), loc='upper left')\n",
    "plt.ylim(9e-2, 5)\n",
    "plt.yticks(minor=True)\n",
    "plt.grid(axis='both', which='minor', linestyle='--')\n",
    "plt.savefig('figs/Ct_alpha.png', dpi=300, bbox_inches='tight')\n",
    "plt.close()\n"
   ]
  },
  {
   "cell_type": "markdown",
   "metadata": {},
   "source": [
    "![figs/Ct_alpha.png](figs/Ct_alpha.png)"
   ]
  }
 ],
 "metadata": {
  "kernelspec": {
   "display_name": "shogo",
   "language": "python",
   "name": "python3"
  },
  "language_info": {
   "codemirror_mode": {
    "name": "ipython",
    "version": 3
   },
   "file_extension": ".py",
   "mimetype": "text/x-python",
   "name": "python",
   "nbconvert_exporter": "python",
   "pygments_lexer": "ipython3",
   "version": "3.11.4"
  }
 },
 "nbformat": 4,
 "nbformat_minor": 2
}
